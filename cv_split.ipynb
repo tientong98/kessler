{
 "cells": [
  {
   "cell_type": "code",
   "execution_count": 1,
   "id": "f63c8b80",
   "metadata": {},
   "outputs": [
    {
     "data": {
      "text/plain": [
       "53"
      ]
     },
     "execution_count": 1,
     "metadata": {},
     "output_type": "execute_result"
    }
   ],
   "source": [
    "import glob \n",
    "import pandas as pd\n",
    "import numpy as np\n",
    "\n",
    "exclude_perc_threshold = 0.5\n",
    "\n",
    "no_timepoint_excluded = pd.read_excel(\"/mnt/LABS/tbi/implicitmem_SCI/code/feat_lev1/all_03.xlsx\")\n",
    "run_excluded = no_timepoint_excluded.loc[no_timepoint_excluded.exclude_perc >= exclude_perc_threshold]\n",
    "\n",
    "run_excluded = run_excluded.assign(subjectid = run_excluded['input'].apply(lambda x: x.split('_')[0]))\n",
    "run_excluded = run_excluded.assign(runid = run_excluded['input'].apply(lambda x: x.split('_')[2]))\n",
    "run_excluded = run_excluded.assign(featdir = run_excluded['subjectid'] + '_' + run_excluded['runid'])\n",
    "\n",
    "\n",
    "\n",
    "derivatives = '/mnt/LABS/tbi/implicitmem_SCI/derivatives/'\n",
    "highpass = '100'\n",
    "cope = 'cope4'\n",
    "niimgs = sorted(glob.glob(derivatives + 'feat_lev1_hp' + highpass + \n",
    "                                 '/sub-*_run-2' + '.feat/stats/' + cope + '.nii.gz'))\n",
    "niimgs_fin = list(filter(lambda filename: \n",
    "                         filename.split('/')[7].split('_')[0] not in np.unique(run_excluded['subjectid']), niimgs))\n",
    "group = [0 if 'HC' in nii_name else 1 for nii_name in niimgs]\n",
    "len(group)"
   ]
  },
  {
   "cell_type": "code",
   "execution_count": 2,
   "id": "7bcc0f02",
   "metadata": {},
   "outputs": [],
   "source": [
    "from sklearn.model_selection import (\n",
    "    TimeSeriesSplit,\n",
    "    KFold,\n",
    "    ShuffleSplit,\n",
    "    StratifiedKFold,\n",
    "    GroupShuffleSplit,\n",
    "    GroupKFold,\n",
    "    StratifiedShuffleSplit,\n",
    "    StratifiedGroupKFold,\n",
    ")\n",
    "import numpy as np\n",
    "import matplotlib.pyplot as plt\n",
    "from matplotlib.patches import Patch\n",
    "\n",
    "rng = np.random.RandomState(1338)\n",
    "cmap_data = plt.cm.Paired\n",
    "cmap_cv = plt.cm.coolwarm\n",
    "n_splits = 10"
   ]
  },
  {
   "cell_type": "code",
   "execution_count": 3,
   "id": "8365232a",
   "metadata": {},
   "outputs": [],
   "source": [
    "def plot_cv_indices(cv, X, y, group, ax, n_splits, lw=10):\n",
    "    \"\"\"Create a sample plot for indices of a cross-validation object.\"\"\"\n",
    "\n",
    "    # Generate the training/testing visualizations for each CV split\n",
    "    for ii, (tr, tt) in enumerate(cv.split(X=X, y=y, groups=group)):\n",
    "        # Fill in indices with the training/test groups\n",
    "        indices = np.array([np.nan] * len(X))\n",
    "        indices[tt] = 1\n",
    "        indices[tr] = 0\n",
    "\n",
    "        # Visualize the results\n",
    "        ax.scatter(\n",
    "            range(len(indices)),\n",
    "            [ii + 0.5] * len(indices),\n",
    "            c=indices,\n",
    "            marker=\"_\",\n",
    "            lw=lw,\n",
    "            cmap=cmap_cv,\n",
    "            vmin=-0.2,\n",
    "            vmax=1.2,\n",
    "        )\n",
    "\n",
    "    # Plot the data classes and groups at the end\n",
    "    ax.scatter(\n",
    "        range(len(X)), [ii + 1.5] * len(X), c=y, marker=\"_\", lw=lw, cmap=cmap_data\n",
    "    )\n",
    "\n",
    "    ax.scatter(\n",
    "        range(len(X)), [ii + 2.5] * len(X), c=group, marker=\"_\", lw=lw, cmap=cmap_data\n",
    "    )\n",
    "\n",
    "    # Formatting\n",
    "    yticklabels = list(range(n_splits)) + [\"class\", \"group\"]\n",
    "    ax.set(\n",
    "        yticks=np.arange(n_splits + 2) + 0.5,\n",
    "        yticklabels=yticklabels,\n",
    "        xlabel=\"Sample index\",\n",
    "        ylabel=\"CV iteration\",\n",
    "        ylim=[n_splits + 2.2, -0.2],\n",
    "        xlim=[0, len(group)],\n",
    "    )\n",
    "    ax.set_title(\"{}\".format(type(cv).__name__), fontsize=15)\n",
    "    return ax"
   ]
  },
  {
   "cell_type": "code",
   "execution_count": 4,
   "id": "c7575ab8",
   "metadata": {},
   "outputs": [
    {
     "data": {
      "image/png": "[encoded data removed]",
      "text/plain": [
       "<Figure size 600x600 with 1 Axes>"
      ]
     },
     "metadata": {},
     "output_type": "display_data"
    }
   ],
   "source": [
    "cvs = [StratifiedShuffleSplit]\n",
    "\n",
    "for cv in cvs:\n",
    "    fig, ax = plt.subplots(figsize=(6, 6))\n",
    "    plot_cv_indices(cv(n_splits), niimgs, np.array(group), group, ax, n_splits)\n",
    "    ax.legend(\n",
    "        [Patch(color=cmap_cv(0.8)), Patch(color=cmap_cv(0.02))],\n",
    "        [\"Testing set\", \"Training set\"],\n",
    "        loc=(1.02, 0.8),\n",
    "    )\n",
    "    # Make the legend fit\n",
    "    plt.tight_layout()\n",
    "    fig.subplots_adjust(right=0.7)"
   ]
  },
  {
   "cell_type": "code",
   "execution_count": null,
   "id": "419bdb4d",
   "metadata": {},
   "outputs": [],
   "source": []
  }
 ],
 "metadata": {
  "kernelspec": {
   "display_name": "Python 3 (ipykernel)",
   "language": "python",
   "name": "python3"
  },
  "language_info": {
   "codemirror_mode": {
    "name": "ipython",
    "version": 3
   },
   "file_extension": ".py",
   "mimetype": "text/x-python",
   "name": "python",
   "nbconvert_exporter": "python",
   "pygments_lexer": "ipython3",
   "version": "3.10.8"
  }
 },
 "nbformat": 4,
 "nbformat_minor": 5
}
